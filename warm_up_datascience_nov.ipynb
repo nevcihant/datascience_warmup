{
  "nbformat": 4,
  "nbformat_minor": 0,
  "metadata": {
    "colab": {
      "provenance": []
    },
    "kernelspec": {
      "name": "python3",
      "display_name": "Python 3"
    },
    "language_info": {
      "name": "python"
    }
  },
  "cells": [
    {
      "cell_type": "code",
      "execution_count": null,
      "metadata": {
        "colab": {
          "base_uri": "https://localhost:8080/"
        },
        "id": "K9XmeQdOCmlz",
        "outputId": "44997e57-ec5e-4bd8-a5f9-afaaf7c1512a"
      },
      "outputs": [
        {
          "output_type": "stream",
          "name": "stdout",
          "text": [
            "Merhaba veri bilimi\n"
          ]
        }
      ],
      "source": [
        "print('Merhaba veri bilimi')"
      ]
    },
    {
      "cell_type": "code",
      "source": [
        "print(5+3)"
      ],
      "metadata": {
        "colab": {
          "base_uri": "https://localhost:8080/"
        },
        "id": "QAfDUpNaLcJD",
        "outputId": "2eb6d385-4921-40f0-d030-95ee78cf9f39"
      },
      "execution_count": null,
      "outputs": [
        {
          "output_type": "stream",
          "name": "stdout",
          "text": [
            "8\n"
          ]
        }
      ]
    },
    {
      "cell_type": "code",
      "source": [
        "100/2"
      ],
      "metadata": {
        "colab": {
          "base_uri": "https://localhost:8080/"
        },
        "id": "p-Vqlt4HL0Vm",
        "outputId": "9c2fe67a-0939-44ac-f7b4-41f3a7dcde0d"
      },
      "execution_count": null,
      "outputs": [
        {
          "output_type": "execute_result",
          "data": {
            "text/plain": [
              "50.0"
            ]
          },
          "metadata": {},
          "execution_count": 4
        }
      ]
    },
    {
      "cell_type": "code",
      "source": [
        "(1 + 2) * 3"
      ],
      "metadata": {
        "colab": {
          "base_uri": "https://localhost:8080/"
        },
        "id": "4yEKsquWDS5f",
        "outputId": "4e9133ae-6cb4-4ee3-aae8-8dfc0a9b8e6f"
      },
      "execution_count": null,
      "outputs": [
        {
          "output_type": "execute_result",
          "data": {
            "text/plain": [
              "9"
            ]
          },
          "metadata": {},
          "execution_count": 5
        }
      ]
    },
    {
      "cell_type": "code",
      "source": [
        "#bu kod yemekler hakkında bilgi verir\n",
        "print(\"food is very nice\") "
      ],
      "metadata": {
        "colab": {
          "base_uri": "https://localhost:8080/"
        },
        "id": "F3T1cHbZDVhV",
        "outputId": "1c71874a-31b7-4887-9ac1-0b3eeb59e5f6"
      },
      "execution_count": null,
      "outputs": [
        {
          "output_type": "stream",
          "name": "stdout",
          "text": [
            "food is very nice\n"
          ]
        }
      ]
    },
    {
      "cell_type": "code",
      "source": [
        "#A simple program.\n",
        "print(\"Mary had a little lamb\")\n",
        "print(\"it's fleece was white as snow;\")\n",
        "print(\"and everywhere that Mary went\", end = \" \")\n",
        "print(\"her lamb was sure to go.\")"
      ],
      "metadata": {
        "colab": {
          "base_uri": "https://localhost:8080/"
        },
        "id": "Xx4_1t8RDb86",
        "outputId": "3e13dad3-39d4-46df-9bdf-e1dbceeacd44"
      },
      "execution_count": null,
      "outputs": [
        {
          "output_type": "stream",
          "name": "stdout",
          "text": [
            "Mary had a little lamb\n",
            "it's fleece was white as snow;\n",
            "and everywhere that Mary went her lamb was sure to go.\n"
          ]
        }
      ]
    },
    {
      "cell_type": "code",
      "source": [
        "x = 5"
      ],
      "metadata": {
        "id": "L_kVT5m1Dip_"
      },
      "execution_count": null,
      "outputs": []
    },
    {
      "cell_type": "code",
      "source": [
        "x"
      ],
      "metadata": {
        "colab": {
          "base_uri": "https://localhost:8080/"
        },
        "id": "YekR2rrHN76s",
        "outputId": "6f0b5ace-6f28-4f15-cc50-54a22b259438"
      },
      "execution_count": null,
      "outputs": [
        {
          "output_type": "execute_result",
          "data": {
            "text/plain": [
              "5"
            ]
          },
          "metadata": {},
          "execution_count": 9
        }
      ]
    },
    {
      "cell_type": "code",
      "source": [
        "word1 = \"Good\"\n",
        "word2 = \"morning\"\n",
        "word3 = \"to you too!\"\n",
        "print(word1, word2, word3)"
      ],
      "metadata": {
        "colab": {
          "base_uri": "https://localhost:8080/"
        },
        "id": "pA2Xc80YDk_g",
        "outputId": "8b47fe9b-9555-44b8-a83a-a8c63de5ef99"
      },
      "execution_count": null,
      "outputs": [
        {
          "output_type": "stream",
          "name": "stdout",
          "text": [
            "Good morning to you too!\n"
          ]
        }
      ]
    },
    {
      "cell_type": "code",
      "source": [
        "sentence = word1 + \" \" + word2 + \" \" + word3\n",
        "print(sentence)\n",
        "len(sentence)\n",
        "sentence[:5]"
      ],
      "metadata": {
        "colab": {
          "base_uri": "https://localhost:8080/",
          "height": 53
        },
        "id": "SrWhLnMFOYd7",
        "outputId": "20208b92-af54-4c3a-be84-0de42d799b1c"
      },
      "execution_count": null,
      "outputs": [
        {
          "output_type": "stream",
          "name": "stdout",
          "text": [
            "Good morning to you too!\n"
          ]
        },
        {
          "output_type": "execute_result",
          "data": {
            "text/plain": [
              "'Good '"
            ],
            "application/vnd.google.colaboratory.intrinsic+json": {
              "type": "string"
            }
          },
          "metadata": {},
          "execution_count": 18
        }
      ]
    },
    {
      "cell_type": "code",
      "source": [
        "text = \"abcdefghij\" + \" \" + \"cef\"\n",
        "len(text)"
      ],
      "metadata": {
        "colab": {
          "base_uri": "https://localhost:8080/"
        },
        "id": "YA01WLWvDm9d",
        "outputId": "a3d33c65-3713-4a70-8fce-17f50392c46e"
      },
      "execution_count": null,
      "outputs": [
        {
          "output_type": "execute_result",
          "data": {
            "text/plain": [
              "14"
            ]
          },
          "metadata": {},
          "execution_count": 14
        }
      ]
    },
    {
      "cell_type": "code",
      "source": [
        "print(text[4])"
      ],
      "metadata": {
        "colab": {
          "base_uri": "https://localhost:8080/"
        },
        "id": "Css-HoNeDpL8",
        "outputId": "cb147312-fc37-4a72-e51a-e3b0209b284d"
      },
      "execution_count": null,
      "outputs": [
        {
          "output_type": "stream",
          "name": "stdout",
          "text": [
            "e\n"
          ]
        }
      ]
    },
    {
      "cell_type": "code",
      "source": [
        "print(text[:4])"
      ],
      "metadata": {
        "id": "XuQdT_bvDqi4"
      },
      "execution_count": null,
      "outputs": []
    },
    {
      "cell_type": "code",
      "source": [
        "print(text[4:8])"
      ],
      "metadata": {
        "id": "PkLLfPWcDsrS"
      },
      "execution_count": null,
      "outputs": []
    },
    {
      "cell_type": "code",
      "source": [
        "print(sentence.count('Good'))"
      ],
      "metadata": {
        "colab": {
          "base_uri": "https://localhost:8080/"
        },
        "id": "HieX_5X4D6Is",
        "outputId": "6d5a92b4-4183-41a2-f569-453be811a83e"
      },
      "execution_count": null,
      "outputs": [
        {
          "output_type": "stream",
          "name": "stdout",
          "text": [
            "1\n"
          ]
        }
      ]
    },
    {
      "cell_type": "code",
      "source": [
        "print(text.find('to'))"
      ],
      "metadata": {
        "colab": {
          "base_uri": "https://localhost:8080/"
        },
        "id": "rJ6VeMGwEBFx",
        "outputId": "fc63461d-9fb0-46a0-eac8-a86c1afe26d3"
      },
      "execution_count": null,
      "outputs": [
        {
          "output_type": "stream",
          "name": "stdout",
          "text": [
            "-1\n"
          ]
        }
      ]
    },
    {
      "cell_type": "code",
      "source": [
        "# Changes the string to upper case\n",
        "print(sentence.upper())"
      ],
      "metadata": {
        "colab": {
          "base_uri": "https://localhost:8080/"
        },
        "id": "IGMwLsXeRV00",
        "outputId": "33b5f62b-e33e-4438-d109-72b51364e49a"
      },
      "execution_count": null,
      "outputs": [
        {
          "output_type": "stream",
          "name": "stdout",
          "text": [
            "GOOD MORNING TO YOU TOO!\n"
          ]
        }
      ]
    },
    {
      "cell_type": "code",
      "source": [
        "kabinrapor1=\"Uçağımızda yerde ve kalkış sonrası tuvalet lavabolarından ve boilerlardan su gelmemiştir.Yolcularımıza çay kahve ikram edilememiştir.Saygılarımla arz ederim.\""
      ],
      "metadata": {
        "id": "VSzgy3NhSCEr"
      },
      "execution_count": 3,
      "outputs": []
    },
    {
      "cell_type": "code",
      "source": [
        "print(kabinrapor1)"
      ],
      "metadata": {
        "colab": {
          "base_uri": "https://localhost:8080/"
        },
        "id": "Oah72h1LSLah",
        "outputId": "7a7d0288-3594-440b-84d6-4099a1133683"
      },
      "execution_count": 4,
      "outputs": [
        {
          "output_type": "stream",
          "name": "stdout",
          "text": [
            "Uçağımızda yerde ve kalkış sonrası tuvalet lavabolarından ve boilerlardan su gelmemiştir.Yolcularımıza çay kahve ikram edilememiştir.Saygılarımla arz ederim.\n"
          ]
        }
      ]
    },
    {
      "cell_type": "code",
      "source": [
        "# Splits the string on a character and returns it as list items. You'll learn about lists later\n",
        "print(kabinrapor1.split(\".\"))\n"
      ],
      "metadata": {
        "colab": {
          "base_uri": "https://localhost:8080/"
        },
        "id": "hDAAQrR8SHZb",
        "outputId": "0646c427-a2f8-4274-ba4e-8cf267eeabd0"
      },
      "execution_count": 5,
      "outputs": [
        {
          "output_type": "stream",
          "name": "stdout",
          "text": [
            "['Uçağımızda yerde ve kalkış sonrası tuvalet lavabolarından ve boilerlardan su gelmemiştir', 'Yolcularımıza çay kahve ikram edilememiştir', 'Saygılarımla arz ederim', '']\n"
          ]
        }
      ]
    },
    {
      "cell_type": "code",
      "source": [
        "kabinrapor_ekleri=kabinrapor1.split(\".\")"
      ],
      "metadata": {
        "id": "NZrtJ9ROS7pT"
      },
      "execution_count": null,
      "outputs": []
    },
    {
      "cell_type": "code",
      "source": [
        "kabinrapor_ekleri"
      ],
      "metadata": {
        "colab": {
          "base_uri": "https://localhost:8080/"
        },
        "id": "yfkgjjTpTAqd",
        "outputId": "5dca278c-49a5-4026-e816-6ac110b4f368"
      },
      "execution_count": null,
      "outputs": [
        {
          "output_type": "execute_result",
          "data": {
            "text/plain": [
              "['Uçağımızda yerde ve kalkış sonrası tuvalet lavabolarından ve boilerlardan su gelmemiştir',\n",
              " 'Yolcularımıza çay kahve ikram edilememiştir',\n",
              " 'Saygılarımla arz ederim',\n",
              " '']"
            ]
          },
          "metadata": {},
          "execution_count": 31
        }
      ]
    },
    {
      "cell_type": "code",
      "source": [
        "kabinrapor_ekleri[2]"
      ],
      "metadata": {
        "colab": {
          "base_uri": "https://localhost:8080/",
          "height": 36
        },
        "id": "OAbiQdz6TFqb",
        "outputId": "bda10c4c-583e-4bfb-befd-95174518bd64"
      },
      "execution_count": null,
      "outputs": [
        {
          "output_type": "execute_result",
          "data": {
            "text/plain": [
              "'Saygılarımla arz ederim'"
            ],
            "application/vnd.google.colaboratory.intrinsic+json": {
              "type": "string"
            }
          },
          "metadata": {},
          "execution_count": 33
        }
      ]
    },
    {
      "cell_type": "code",
      "source": [
        "# Replaces strings\n",
        "print(kabinrapor1.replace(\"stü\",\"süt\"))"
      ],
      "metadata": {
        "colab": {
          "base_uri": "https://localhost:8080/"
        },
        "id": "GuKiyRmlEDdd",
        "outputId": "5a7f7d00-6008-4aed-acad-70708a8503a9"
      },
      "execution_count": null,
      "outputs": [
        {
          "output_type": "stream",
          "name": "stdout",
          "text": [
            "Uçağımızda yerde ve kalkış sonrası tuvalet lavabolarından ve boilerlardan su gelmemiştir!Yolcularımıza çay kahve ikram edilememiştir!Saygılarımla arz ederim!\n"
          ]
        }
      ]
    },
    {
      "cell_type": "code",
      "source": [
        "from wordcloud import WordCloud, STOPWORDS, ImageColorGenerator\n",
        "import matplotlib.pyplot as plt\n",
        "% matplotlib inline"
      ],
      "metadata": {
        "colab": {
          "base_uri": "https://localhost:8080/"
        },
        "id": "1ZXEV3AF0-sG",
        "outputId": "8ef4dacd-185b-4aa8-fd3d-80666ea4af17"
      },
      "execution_count": 7,
      "outputs": [
        {
          "output_type": "stream",
          "name": "stderr",
          "text": [
            "UsageError: Line magic function `%` not found.\n"
          ]
        }
      ]
    },
    {
      "cell_type": "code",
      "source": [
        "wordcloud = WordCloud(max_font_size=50, max_words=100, background_color=\"white\").generate(kabinrapor1)\n",
        "plt.figure()\n",
        "plt.imshow(wordcloud, interpolation=\"bilinear\")\n",
        "plt.axis(\"off\")\n",
        "plt.show()"
      ],
      "metadata": {
        "colab": {
          "base_uri": "https://localhost:8080/",
          "height": 198
        },
        "id": "_JVWWb1J2z9U",
        "outputId": "596d7ecb-6076-4d3c-a336-dc8a9b9d5dd6"
      },
      "execution_count": 8,
      "outputs": [
        {
          "output_type": "display_data",
          "data": {
            "text/plain": [
              "<Figure size 432x288 with 1 Axes>"
            ],
            "image/png": "[encoded data removed]"
          },
          "metadata": {
            "needs_background": "light"
          }
        }
      ]
    },
    {
      "cell_type": "code",
      "source": [
        "import pandas as pd\n",
        "pd.read_excel('/content/kabin_rapor_sample.xlsx')"
      ],
      "metadata": {
        "colab": {
          "base_uri": "https://localhost:8080/",
          "height": 732
        },
        "id": "tYWhJ7Fz3fcL",
        "outputId": "65cac4ab-3f25-40df-ea05-dc47eacef6b3"
      },
      "execution_count": 11,
      "outputs": [
        {
          "output_type": "stream",
          "name": "stderr",
          "text": [
            "/usr/local/lib/python3.9/dist-packages/openpyxl/styles/stylesheet.py:226: UserWarning: Workbook contains no default style, apply openpyxl's default\n",
            "  warn(\"Workbook contains no default style, apply openpyxl's default\")\n"
          ]
        },
        {
          "output_type": "execute_result",
          "data": {
            "text/plain": [
              "      Unnamed: 0 Unnamed: 1           Unnamed: 2           Unnamed: 3  \\\n",
              "0            NaN      (All)                  NaN                  NaN   \n",
              "1            NaN        NaN                  NaN                  NaN   \n",
              "2            NaN        NaN                  NaN                  NaN   \n",
              "3            NaN        NaN                  NaN                  NaN   \n",
              "4            NaN        NaN                  NaN                  NaN   \n",
              "...          ...        ...                  ...                  ...   \n",
              "6461         NaN        NaN  2023-03-02 23:50:00  2023-03-02 00:00:00   \n",
              "6462         NaN        NaN  2023-03-02 23:50:00  2023-03-02 00:00:00   \n",
              "6463         NaN        NaN  2023-03-02 23:50:00  2023-03-02 00:00:00   \n",
              "6464         NaN        NaN  2023-03-02 23:50:00  2023-03-02 00:00:00   \n",
              "6465         NaN        NaN  2023-03-02 23:55:00  2023-03-02 00:00:00   \n",
              "\n",
              "     Unnamed: 4 Unnamed: 5      Unnamed: 6 Unnamed: 7 Unnamed: 8  Unnamed: 9  \\\n",
              "0           NaN        NaN  Sefer Numarası        NaN        NaN         NaN   \n",
              "1           NaN      (All)             NaN        NaN        NaN         NaN   \n",
              "2           NaN        NaN             NaN        NaN        NaN         NaN   \n",
              "3           NaN        NaN             NaN        NaN        NaN         NaN   \n",
              "4           NaN        NaN             NaN        NaN        NaN         NaN   \n",
              "...         ...        ...             ...        ...        ...         ...   \n",
              "6461        669        NaN             NaN        NSI        DLA         NaN   \n",
              "6462        669        NaN             NaN        NSI        DLA         NaN   \n",
              "6463        669        NaN             NaN        NSI        DLA         NaN   \n",
              "6464        669        NaN             NaN        NSI        DLA         NaN   \n",
              "6465        337        NaN             NaN        GYD        IST         NaN   \n",
              "\n",
              "      ... Unnamed: 52 Unnamed: 53 Unnamed: 54     Unnamed: 55  Unnamed: 56  \\\n",
              "0     ...         NaN         NaN         NaN  Yolcu Şikayeti          NaN   \n",
              "1     ...         NaN         NaN       (All)             NaN          NaN   \n",
              "2     ...         NaN         NaN         NaN             NaN          NaN   \n",
              "3     ...         NaN         NaN         NaN             NaN          NaN   \n",
              "4     ...         NaN         NaN         NaN             NaN          NaN   \n",
              "...   ...         ...         ...         ...             ...          ...   \n",
              "6461  ...         NaN      CIVGIN         NaN             NaN        SEVGI   \n",
              "6462  ...         NaN      CIVGIN         NaN             NaN        SEVGI   \n",
              "6463  ...         NaN      CIVGIN         NaN             NaN        SEVGI   \n",
              "6464  ...         NaN      CIVGIN         NaN             NaN        SEVGI   \n",
              "6465  ...         NaN       DOGAN         NaN             NaN        CANAN   \n",
              "\n",
              "              Unnamed: 57 Unnamed: 58 Unnamed: 59  Unnamed: 60 Unnamed: 61  \n",
              "0                     NaN         NaN       TK/AJ          NaN         NaN  \n",
              "1                     NaN       (All)         NaN          NaN         NaN  \n",
              "2                     NaN         NaN         NaN          NaN         NaN  \n",
              "3                     NaN         NaN         NaN          NaN         NaN  \n",
              "4                     NaN         NaN         NaN          NaN         NaN  \n",
              "...                   ...         ...         ...          ...         ...  \n",
              "6461  2023-03-03 09:20:38         NaN         NaN          NaN         NaN  \n",
              "6462  2023-03-03 09:20:38         NaN         NaN          NaN         NaN  \n",
              "6463  2023-03-03 09:20:38         NaN         NaN          NaN         NaN  \n",
              "6464  2023-03-03 09:20:38         NaN         NaN          NaN         NaN  \n",
              "6465  2023-03-03 04:58:08         NaN   YURTOGREN          NaN        EMEL  \n",
              "\n",
              "[6466 rows x 62 columns]"
            ],
            "text/html": [
              "\n",
              "  <div id=\"df-5fad60d9-e2e3-4d49-8ec5-511833678923\">\n",
              "    <div class=\"colab-df-container\">\n",
              "      <div>\n",
              "<style scoped>\n",
              "    .dataframe tbody tr th:only-of-type {\n",
              "        vertical-align: middle;\n",
              "    }\n",
              "\n",
              "    .dataframe tbody tr th {\n",
              "        vertical-align: top;\n",
              "    }\n",
              "\n",
              "    .dataframe thead th {\n",
              "        text-align: right;\n",
              "    }\n",
              "</style>\n",
              "<table border=\"1\" class=\"dataframe\">\n",
              "  <thead>\n",
              "    <tr style=\"text-align: right;\">\n",
              "      <th></th>\n",
              "      <th>Unnamed: 0</th>\n",
              "      <th>Unnamed: 1</th>\n",
              "      <th>Unnamed: 2</th>\n",
              "      <th>Unnamed: 3</th>\n",
              "      <th>Unnamed: 4</th>\n",
              "      <th>Unnamed: 5</th>\n",
              "      <th>Unnamed: 6</th>\n",
              "      <th>Unnamed: 7</th>\n",
              "      <th>Unnamed: 8</th>\n",
              "      <th>Unnamed: 9</th>\n",
              "      <th>...</th>\n",
              "      <th>Unnamed: 52</th>\n",
              "      <th>Unnamed: 53</th>\n",
              "      <th>Unnamed: 54</th>\n",
              "      <th>Unnamed: 55</th>\n",
              "      <th>Unnamed: 56</th>\n",
              "      <th>Unnamed: 57</th>\n",
              "      <th>Unnamed: 58</th>\n",
              "      <th>Unnamed: 59</th>\n",
              "      <th>Unnamed: 60</th>\n",
              "      <th>Unnamed: 61</th>\n",
              "    </tr>\n",
              "  </thead>\n",
              "  <tbody>\n",
              "    <tr>\n",
              "      <th>0</th>\n",
              "      <td>NaN</td>\n",
              "      <td>(All)</td>\n",
              "      <td>NaN</td>\n",
              "      <td>NaN</td>\n",
              "      <td>NaN</td>\n",
              "      <td>NaN</td>\n",
              "      <td>Sefer Numarası</td>\n",
              "      <td>NaN</td>\n",
              "      <td>NaN</td>\n",
              "      <td>NaN</td>\n",
              "      <td>...</td>\n",
              "      <td>NaN</td>\n",
              "      <td>NaN</td>\n",
              "      <td>NaN</td>\n",
              "      <td>Yolcu Şikayeti</td>\n",
              "      <td>NaN</td>\n",
              "      <td>NaN</td>\n",
              "      <td>NaN</td>\n",
              "      <td>TK/AJ</td>\n",
              "      <td>NaN</td>\n",
              "      <td>NaN</td>\n",
              "    </tr>\n",
              "    <tr>\n",
              "      <th>1</th>\n",
              "      <td>NaN</td>\n",
              "      <td>NaN</td>\n",
              "      <td>NaN</td>\n",
              "      <td>NaN</td>\n",
              "      <td>NaN</td>\n",
              "      <td>(All)</td>\n",
              "      <td>NaN</td>\n",
              "      <td>NaN</td>\n",
              "      <td>NaN</td>\n",
              "      <td>NaN</td>\n",
              "      <td>...</td>\n",
              "      <td>NaN</td>\n",
              "      <td>NaN</td>\n",
              "      <td>(All)</td>\n",
              "      <td>NaN</td>\n",
              "      <td>NaN</td>\n",
              "      <td>NaN</td>\n",
              "      <td>(All)</td>\n",
              "      <td>NaN</td>\n",
              "      <td>NaN</td>\n",
              "      <td>NaN</td>\n",
              "    </tr>\n",
              "    <tr>\n",
              "      <th>2</th>\n",
              "      <td>NaN</td>\n",
              "      <td>NaN</td>\n",
              "      <td>NaN</td>\n",
              "      <td>NaN</td>\n",
              "      <td>NaN</td>\n",
              "      <td>NaN</td>\n",
              "      <td>NaN</td>\n",
              "      <td>NaN</td>\n",
              "      <td>NaN</td>\n",
              "      <td>NaN</td>\n",
              "      <td>...</td>\n",
              "      <td>NaN</td>\n",
              "      <td>NaN</td>\n",
              "      <td>NaN</td>\n",
              "      <td>NaN</td>\n",
              "      <td>NaN</td>\n",
              "      <td>NaN</td>\n",
              "      <td>NaN</td>\n",
              "      <td>NaN</td>\n",
              "      <td>NaN</td>\n",
              "      <td>NaN</td>\n",
              "    </tr>\n",
              "    <tr>\n",
              "      <th>3</th>\n",
              "      <td>NaN</td>\n",
              "      <td>NaN</td>\n",
              "      <td>NaN</td>\n",
              "      <td>NaN</td>\n",
              "      <td>NaN</td>\n",
              "      <td>NaN</td>\n",
              "      <td>NaN</td>\n",
              "      <td>NaN</td>\n",
              "      <td>NaN</td>\n",
              "      <td>NaN</td>\n",
              "      <td>...</td>\n",
              "      <td>NaN</td>\n",
              "      <td>NaN</td>\n",
              "      <td>NaN</td>\n",
              "      <td>NaN</td>\n",
              "      <td>NaN</td>\n",
              "      <td>NaN</td>\n",
              "      <td>NaN</td>\n",
              "      <td>NaN</td>\n",
              "      <td>NaN</td>\n",
              "      <td>NaN</td>\n",
              "    </tr>\n",
              "    <tr>\n",
              "      <th>4</th>\n",
              "      <td>NaN</td>\n",
              "      <td>NaN</td>\n",
              "      <td>NaN</td>\n",
              "      <td>NaN</td>\n",
              "      <td>NaN</td>\n",
              "      <td>NaN</td>\n",
              "      <td>NaN</td>\n",
              "      <td>NaN</td>\n",
              "      <td>NaN</td>\n",
              "      <td>NaN</td>\n",
              "      <td>...</td>\n",
              "      <td>NaN</td>\n",
              "      <td>NaN</td>\n",
              "      <td>NaN</td>\n",
              "      <td>NaN</td>\n",
              "      <td>NaN</td>\n",
              "      <td>NaN</td>\n",
              "      <td>NaN</td>\n",
              "      <td>NaN</td>\n",
              "      <td>NaN</td>\n",
              "      <td>NaN</td>\n",
              "    </tr>\n",
              "    <tr>\n",
              "      <th>...</th>\n",
              "      <td>...</td>\n",
              "      <td>...</td>\n",
              "      <td>...</td>\n",
              "      <td>...</td>\n",
              "      <td>...</td>\n",
              "      <td>...</td>\n",
              "      <td>...</td>\n",
              "      <td>...</td>\n",
              "      <td>...</td>\n",
              "      <td>...</td>\n",
              "      <td>...</td>\n",
              "      <td>...</td>\n",
              "      <td>...</td>\n",
              "      <td>...</td>\n",
              "      <td>...</td>\n",
              "      <td>...</td>\n",
              "      <td>...</td>\n",
              "      <td>...</td>\n",
              "      <td>...</td>\n",
              "      <td>...</td>\n",
              "      <td>...</td>\n",
              "    </tr>\n",
              "    <tr>\n",
              "      <th>6461</th>\n",
              "      <td>NaN</td>\n",
              "      <td>NaN</td>\n",
              "      <td>2023-03-02 23:50:00</td>\n",
              "      <td>2023-03-02 00:00:00</td>\n",
              "      <td>669</td>\n",
              "      <td>NaN</td>\n",
              "      <td>NaN</td>\n",
              "      <td>NSI</td>\n",
              "      <td>DLA</td>\n",
              "      <td>NaN</td>\n",
              "      <td>...</td>\n",
              "      <td>NaN</td>\n",
              "      <td>CIVGIN</td>\n",
              "      <td>NaN</td>\n",
              "      <td>NaN</td>\n",
              "      <td>SEVGI</td>\n",
              "      <td>2023-03-03 09:20:38</td>\n",
              "      <td>NaN</td>\n",
              "      <td>NaN</td>\n",
              "      <td>NaN</td>\n",
              "      <td>NaN</td>\n",
              "    </tr>\n",
              "    <tr>\n",
              "      <th>6462</th>\n",
              "      <td>NaN</td>\n",
              "      <td>NaN</td>\n",
              "      <td>2023-03-02 23:50:00</td>\n",
              "      <td>2023-03-02 00:00:00</td>\n",
              "      <td>669</td>\n",
              "      <td>NaN</td>\n",
              "      <td>NaN</td>\n",
              "      <td>NSI</td>\n",
              "      <td>DLA</td>\n",
              "      <td>NaN</td>\n",
              "      <td>...</td>\n",
              "      <td>NaN</td>\n",
              "      <td>CIVGIN</td>\n",
              "      <td>NaN</td>\n",
              "      <td>NaN</td>\n",
              "      <td>SEVGI</td>\n",
              "      <td>2023-03-03 09:20:38</td>\n",
              "      <td>NaN</td>\n",
              "      <td>NaN</td>\n",
              "      <td>NaN</td>\n",
              "      <td>NaN</td>\n",
              "    </tr>\n",
              "    <tr>\n",
              "      <th>6463</th>\n",
              "      <td>NaN</td>\n",
              "      <td>NaN</td>\n",
              "      <td>2023-03-02 23:50:00</td>\n",
              "      <td>2023-03-02 00:00:00</td>\n",
              "      <td>669</td>\n",
              "      <td>NaN</td>\n",
              "      <td>NaN</td>\n",
              "      <td>NSI</td>\n",
              "      <td>DLA</td>\n",
              "      <td>NaN</td>\n",
              "      <td>...</td>\n",
              "      <td>NaN</td>\n",
              "      <td>CIVGIN</td>\n",
              "      <td>NaN</td>\n",
              "      <td>NaN</td>\n",
              "      <td>SEVGI</td>\n",
              "      <td>2023-03-03 09:20:38</td>\n",
              "      <td>NaN</td>\n",
              "      <td>NaN</td>\n",
              "      <td>NaN</td>\n",
              "      <td>NaN</td>\n",
              "    </tr>\n",
              "    <tr>\n",
              "      <th>6464</th>\n",
              "      <td>NaN</td>\n",
              "      <td>NaN</td>\n",
              "      <td>2023-03-02 23:50:00</td>\n",
              "      <td>2023-03-02 00:00:00</td>\n",
              "      <td>669</td>\n",
              "      <td>NaN</td>\n",
              "      <td>NaN</td>\n",
              "      <td>NSI</td>\n",
              "      <td>DLA</td>\n",
              "      <td>NaN</td>\n",
              "      <td>...</td>\n",
              "      <td>NaN</td>\n",
              "      <td>CIVGIN</td>\n",
              "      <td>NaN</td>\n",
              "      <td>NaN</td>\n",
              "      <td>SEVGI</td>\n",
              "      <td>2023-03-03 09:20:38</td>\n",
              "      <td>NaN</td>\n",
              "      <td>NaN</td>\n",
              "      <td>NaN</td>\n",
              "      <td>NaN</td>\n",
              "    </tr>\n",
              "    <tr>\n",
              "      <th>6465</th>\n",
              "      <td>NaN</td>\n",
              "      <td>NaN</td>\n",
              "      <td>2023-03-02 23:55:00</td>\n",
              "      <td>2023-03-02 00:00:00</td>\n",
              "      <td>337</td>\n",
              "      <td>NaN</td>\n",
              "      <td>NaN</td>\n",
              "      <td>GYD</td>\n",
              "      <td>IST</td>\n",
              "      <td>NaN</td>\n",
              "      <td>...</td>\n",
              "      <td>NaN</td>\n",
              "      <td>DOGAN</td>\n",
              "      <td>NaN</td>\n",
              "      <td>NaN</td>\n",
              "      <td>CANAN</td>\n",
              "      <td>2023-03-03 04:58:08</td>\n",
              "      <td>NaN</td>\n",
              "      <td>YURTOGREN</td>\n",
              "      <td>NaN</td>\n",
              "      <td>EMEL</td>\n",
              "    </tr>\n",
              "  </tbody>\n",
              "</table>\n",
              "<p>6466 rows × 62 columns</p>\n",
              "</div>\n",
              "      <button class=\"colab-df-convert\" onclick=\"convertToInteractive('df-5fad60d9-e2e3-4d49-8ec5-511833678923')\"\n",
              "              title=\"Convert this dataframe to an interactive table.\"\n",
              "              style=\"display:none;\">\n",
              "        \n",
              "  <svg xmlns=\"http://www.w3.org/2000/svg\" height=\"24px\"viewBox=\"0 0 24 24\"\n",
              "       width=\"24px\">\n",
              "    <path d=\"M0 0h24v24H0V0z\" fill=\"none\"/>\n",
              "    <path d=\"M18.56 5.44l.94 2.06.94-2.06 2.06-.94-2.06-.94-.94-2.06-.94 2.06-2.06.94zm-11 1L8.5 8.5l.94-2.06 2.06-.94-2.06-.94L8.5 2.5l-.94 2.06-2.06.94zm10 10l.94 2.06.94-2.06 2.06-.94-2.06-.94-.94-2.06-.94 2.06-2.06.94z\"/><path d=\"M17.41 7.96l-1.37-1.37c-.4-.4-.92-.59-1.43-.59-.52 0-1.04.2-1.43.59L10.3 9.45l-7.72 7.72c-.78.78-.78 2.05 0 2.83L4 21.41c.39.39.9.59 1.41.59.51 0 1.02-.2 1.41-.59l7.78-7.78 2.81-2.81c.8-.78.8-2.07 0-2.86zM5.41 20L4 18.59l7.72-7.72 1.47 1.35L5.41 20z\"/>\n",
              "  </svg>\n",
              "      </button>\n",
              "      \n",
              "  <style>\n",
              "    .colab-df-container {\n",
              "      display:flex;\n",
              "      flex-wrap:wrap;\n",
              "      gap: 12px;\n",
              "    }\n",
              "\n",
              "    .colab-df-convert {\n",
              "      background-color: #E8F0FE;\n",
              "      border: none;\n",
              "      border-radius: 50%;\n",
              "      cursor: pointer;\n",
              "      display: none;\n",
              "      fill: #1967D2;\n",
              "      height: 32px;\n",
              "      padding: 0 0 0 0;\n",
              "      width: 32px;\n",
              "    }\n",
              "\n",
              "    .colab-df-convert:hover {\n",
              "      background-color: #E2EBFA;\n",
              "      box-shadow: 0px 1px 2px rgba(60, 64, 67, 0.3), 0px 1px 3px 1px rgba(60, 64, 67, 0.15);\n",
              "      fill: #174EA6;\n",
              "    }\n",
              "\n",
              "    [theme=dark] .colab-df-convert {\n",
              "      background-color: #3B4455;\n",
              "      fill: #D2E3FC;\n",
              "    }\n",
              "\n",
              "    [theme=dark] .colab-df-convert:hover {\n",
              "      background-color: #434B5C;\n",
              "      box-shadow: 0px 1px 3px 1px rgba(0, 0, 0, 0.15);\n",
              "      filter: drop-shadow(0px 1px 2px rgba(0, 0, 0, 0.3));\n",
              "      fill: #FFFFFF;\n",
              "    }\n",
              "  </style>\n",
              "\n",
              "      <script>\n",
              "        const buttonEl =\n",
              "          document.querySelector('#df-5fad60d9-e2e3-4d49-8ec5-511833678923 button.colab-df-convert');\n",
              "        buttonEl.style.display =\n",
              "          google.colab.kernel.accessAllowed ? 'block' : 'none';\n",
              "\n",
              "        async function convertToInteractive(key) {\n",
              "          const element = document.querySelector('#df-5fad60d9-e2e3-4d49-8ec5-511833678923');\n",
              "          const dataTable =\n",
              "            await google.colab.kernel.invokeFunction('convertToInteractive',\n",
              "                                                     [key], {});\n",
              "          if (!dataTable) return;\n",
              "\n",
              "          const docLinkHtml = 'Like what you see? Visit the ' +\n",
              "            '<a target=\"_blank\" href=https://colab.research.google.com/notebooks/data_table.ipynb>data table notebook</a>'\n",
              "            + ' to learn more about interactive tables.';\n",
              "          element.innerHTML = '';\n",
              "          dataTable['output_type'] = 'display_data';\n",
              "          await google.colab.output.renderOutput(dataTable, element);\n",
              "          const docLink = document.createElement('div');\n",
              "          docLink.innerHTML = docLinkHtml;\n",
              "          element.appendChild(docLink);\n",
              "        }\n",
              "      </script>\n",
              "    </div>\n",
              "  </div>\n",
              "  "
            ]
          },
          "metadata": {},
          "execution_count": 11
        }
      ]
    },
    {
      "cell_type": "code",
      "source": [
        "pos_words =[]\n",
        "neg_words = []\n",
        "\n",
        "for review in pos_df.ReviewText:\n",
        "    pos_words.append(review) \n",
        "pos_words = ' '.join(pos_words)\n",
        "\n",
        "\n",
        "for review in neg_df.ReviewText:\n",
        "    neg_words.append(review)\n",
        "neg_words = ' '.join(neg_words)"
      ],
      "metadata": {
        "id": "eUp8iCGw3ffz"
      },
      "execution_count": null,
      "outputs": []
    },
    {
      "cell_type": "code",
      "source": [
        "wordcloud = WordCloud().generate(pos_words)\n",
        "\n",
        "wordcloud = WordCloud(background_color=\"white\",max_words=len(pos_words),\\\n",
        "                      max_font_size=40, relative_scaling=.5, colormap='summer').generate(pos_words)\n",
        "plt.figure(figsize=(13,13))\n",
        "plt.imshow(wordcloud)\n",
        "plt.axis(\"off\")\n",
        "plt.show()"
      ],
      "metadata": {
        "id": "ruhD6moQ5OjY"
      },
      "execution_count": null,
      "outputs": []
    },
    {
      "cell_type": "code",
      "source": [
        "z = 'Kadın'\n",
        "\n",
        "if z =='Kadın':\n",
        "    print(1)\n",
        "elif z !='Kadın':\n",
        "    print(0)"
      ],
      "metadata": {
        "colab": {
          "base_uri": "https://localhost:8080/"
        },
        "id": "OJeAD70pEPnQ",
        "outputId": "c09b8c4c-bd95-47fa-d757-7427affa68be"
      },
      "execution_count": null,
      "outputs": [
        {
          "output_type": "stream",
          "name": "stdout",
          "text": [
            "1\n"
          ]
        }
      ]
    },
    {
      "cell_type": "code",
      "source": [
        "L = list(range(10))\n",
        "L"
      ],
      "metadata": {
        "colab": {
          "base_uri": "https://localhost:8080/"
        },
        "id": "WT6Pvx_CCoHk",
        "outputId": "20edcaa2-03d0-48f4-e83d-12ea69d2b413"
      },
      "execution_count": null,
      "outputs": [
        {
          "output_type": "execute_result",
          "data": {
            "text/plain": [
              "[0, 1, 2, 3, 4, 5, 6, 7, 8, 9]"
            ]
          },
          "metadata": {},
          "execution_count": 43
        }
      ]
    },
    {
      "cell_type": "code",
      "source": [
        "type(L[0])"
      ],
      "metadata": {
        "colab": {
          "base_uri": "https://localhost:8080/"
        },
        "id": "u35j6vJAEO4y",
        "outputId": "4b4df559-43e3-4474-e5ba-4c1a32ec7307"
      },
      "execution_count": null,
      "outputs": [
        {
          "output_type": "execute_result",
          "data": {
            "text/plain": [
              "int"
            ]
          },
          "metadata": {},
          "execution_count": 44
        }
      ]
    },
    {
      "cell_type": "code",
      "source": [
        "# Create a length-10 integer array filled with zeros\n",
        "np.zeros(10, dtype=int)"
      ],
      "metadata": {
        "colab": {
          "base_uri": "https://localhost:8080/",
          "height": 187
        },
        "id": "y7jOXzOnEjKn",
        "outputId": "ec511266-bfaf-4c8e-b661-1f9c7a8fcc10"
      },
      "execution_count": null,
      "outputs": [
        {
          "output_type": "error",
          "ename": "NameError",
          "evalue": "ignored",
          "traceback": [
            "\u001b[0;31m---------------------------------------------------------------------------\u001b[0m",
            "\u001b[0;31mNameError\u001b[0m                                 Traceback (most recent call last)",
            "\u001b[0;32m<ipython-input-45-6eb477764622>\u001b[0m in \u001b[0;36m<module>\u001b[0;34m\u001b[0m\n\u001b[1;32m      1\u001b[0m \u001b[0;31m# Create a length-10 integer array filled with zeros\u001b[0m\u001b[0;34m\u001b[0m\u001b[0;34m\u001b[0m\u001b[0;34m\u001b[0m\u001b[0m\n\u001b[0;32m----> 2\u001b[0;31m \u001b[0mnp\u001b[0m\u001b[0;34m.\u001b[0m\u001b[0mzeros\u001b[0m\u001b[0;34m(\u001b[0m\u001b[0;36m10\u001b[0m\u001b[0;34m,\u001b[0m \u001b[0mdtype\u001b[0m\u001b[0;34m=\u001b[0m\u001b[0mint\u001b[0m\u001b[0;34m)\u001b[0m\u001b[0;34m\u001b[0m\u001b[0;34m\u001b[0m\u001b[0m\n\u001b[0m",
            "\u001b[0;31mNameError\u001b[0m: name 'np' is not defined"
          ]
        }
      ]
    },
    {
      "cell_type": "code",
      "source": [
        "!pip install numpy"
      ],
      "metadata": {
        "colab": {
          "base_uri": "https://localhost:8080/"
        },
        "id": "UIT28BypU3Wc",
        "outputId": "257b1b38-0776-4495-ac9b-69191de2c545"
      },
      "execution_count": null,
      "outputs": [
        {
          "output_type": "stream",
          "name": "stdout",
          "text": [
            "Looking in indexes: https://pypi.org/simple, https://us-python.pkg.dev/colab-wheels/public/simple/\n",
            "Requirement already satisfied: numpy in /usr/local/lib/python3.8/dist-packages (1.21.6)\n"
          ]
        }
      ]
    },
    {
      "cell_type": "code",
      "source": [
        "import numpy as np\n",
        "import pandas as pd"
      ],
      "metadata": {
        "id": "McISANooUl_Q"
      },
      "execution_count": null,
      "outputs": []
    },
    {
      "cell_type": "code",
      "source": [
        "import matplotlib.pyplot as plt\n",
        "import seaborn as sns"
      ],
      "metadata": {
        "id": "LNxUb3_j5S6Z"
      },
      "execution_count": null,
      "outputs": []
    },
    {
      "cell_type": "code",
      "source": [],
      "metadata": {
        "id": "kOSfdIeW5S9F"
      },
      "execution_count": null,
      "outputs": []
    }
  ]
}