{
  "nbformat": 4,
  "nbformat_minor": 0,
  "metadata": {
    "colab": {
      "provenance": []
    },
    "kernelspec": {
      "name": "python3",
      "display_name": "Python 3"
    },
    "language_info": {
      "name": "python"
    }
  },
  "cells": [
    {
      "cell_type": "code",
      "execution_count": null,
      "metadata": {
        "id": "K9XmeQdOCmlz"
      },
      "outputs": [],
      "source": [
        "print('Merhaba veri bilimi')"
      ]
    },
    {
      "cell_type": "code",
      "source": [
        "print(5+3)"
      ],
      "metadata": {
        "id": "QAfDUpNaLcJD"
      },
      "execution_count": null,
      "outputs": []
    },
    {
      "cell_type": "code",
      "source": [
        "100/2"
      ],
      "metadata": {
        "id": "p-Vqlt4HL0Vm"
      },
      "execution_count": null,
      "outputs": []
    },
    {
      "cell_type": "code",
      "source": [
        "(1 + 2) * 3"
      ],
      "metadata": {
        "id": "4yEKsquWDS5f"
      },
      "execution_count": null,
      "outputs": []
    },
    {
      "cell_type": "code",
      "source": [
        "#bu kod yemekler hakkında bilgi verir\n",
        "print(\"food is very nice\")"
      ],
      "metadata": {
        "id": "F3T1cHbZDVhV"
      },
      "execution_count": null,
      "outputs": []
    },
    {
      "cell_type": "code",
      "source": [
        "#A simple program.\n",
        "print(\"Mary had a little lamb\")\n",
        "print(\"it's fleece was white as snow;\")\n",
        "print(\"and everywhere that Mary went\", end = \" \")\n",
        "print(\"her lamb was sure to go.\")"
      ],
      "metadata": {
        "id": "Xx4_1t8RDb86"
      },
      "execution_count": null,
      "outputs": []
    },
    {
      "cell_type": "code",
      "source": [
        "x = 5"
      ],
      "metadata": {
        "id": "L_kVT5m1Dip_"
      },
      "execution_count": null,
      "outputs": []
    },
    {
      "cell_type": "code",
      "source": [
        "x"
      ],
      "metadata": {
        "id": "YekR2rrHN76s"
      },
      "execution_count": null,
      "outputs": []
    },
    {
      "cell_type": "code",
      "source": [
        "word1 = \"Good\"\n",
        "word2 = \"morning\"\n",
        "word3 = \"to you too!\"\n",
        "print(word1, word2, word3)"
      ],
      "metadata": {
        "id": "pA2Xc80YDk_g"
      },
      "execution_count": null,
      "outputs": []
    },
    {
      "cell_type": "code",
      "source": [
        "sentence = word1 + \" \" + word2 + \" \" + word3\n",
        "print(sentence)\n",
        "len(sentence)\n",
        "sentence[:5]"
      ],
      "metadata": {
        "id": "SrWhLnMFOYd7"
      },
      "execution_count": null,
      "outputs": []
    },
    {
      "cell_type": "code",
      "source": [
        "text = \"abcdefghij\" + \" \" + \"cef\"\n",
        "len(text)"
      ],
      "metadata": {
        "id": "YA01WLWvDm9d"
      },
      "execution_count": null,
      "outputs": []
    },
    {
      "cell_type": "code",
      "source": [
        "print(text[4])"
      ],
      "metadata": {
        "id": "Css-HoNeDpL8"
      },
      "execution_count": null,
      "outputs": []
    },
    {
      "cell_type": "code",
      "source": [
        "print(text[:4])"
      ],
      "metadata": {
        "id": "XuQdT_bvDqi4"
      },
      "execution_count": null,
      "outputs": []
    },
    {
      "cell_type": "code",
      "source": [
        "print(text[4:8])"
      ],
      "metadata": {
        "id": "PkLLfPWcDsrS"
      },
      "execution_count": null,
      "outputs": []
    },
    {
      "cell_type": "code",
      "source": [
        "print(sentence.count('Good'))"
      ],
      "metadata": {
        "id": "HieX_5X4D6Is"
      },
      "execution_count": null,
      "outputs": []
    },
    {
      "cell_type": "code",
      "source": [
        "print(text.find('to'))"
      ],
      "metadata": {
        "id": "rJ6VeMGwEBFx"
      },
      "execution_count": null,
      "outputs": []
    },
    {
      "cell_type": "code",
      "source": [
        "# Changes the string to upper case\n",
        "print(sentence.upper())"
      ],
      "metadata": {
        "id": "IGMwLsXeRV00"
      },
      "execution_count": null,
      "outputs": []
    },
    {
      "cell_type": "code",
      "source": [
        "kabinrapor1=\"Uçağımızda yerde ve kalkış sonrası tuvalet lavabolarından ve boilerlardan su gelmemiştir.Yolcularımıza çay kahve ikram edilememiştir.Saygılarımla arz ederim.\""
      ],
      "metadata": {
        "id": "VSzgy3NhSCEr"
      },
      "execution_count": null,
      "outputs": []
    },
    {
      "cell_type": "code",
      "source": [
        "print(kabinrapor1)"
      ],
      "metadata": {
        "id": "Oah72h1LSLah"
      },
      "execution_count": null,
      "outputs": []
    },
    {
      "cell_type": "code",
      "source": [
        "# Splits the string on a character and returns it as list items. You'll learn about lists later\n",
        "print(kabinrapor1.split(\".\"))\n"
      ],
      "metadata": {
        "id": "hDAAQrR8SHZb"
      },
      "execution_count": null,
      "outputs": []
    },
    {
      "cell_type": "code",
      "source": [
        "kabinrapor_ekleri=kabinrapor1.split(\".\")"
      ],
      "metadata": {
        "id": "NZrtJ9ROS7pT"
      },
      "execution_count": null,
      "outputs": []
    },
    {
      "cell_type": "code",
      "source": [
        "kabinrapor_ekleri"
      ],
      "metadata": {
        "id": "yfkgjjTpTAqd"
      },
      "execution_count": null,
      "outputs": []
    },
    {
      "cell_type": "code",
      "source": [
        "kabinrapor_ekleri[2]"
      ],
      "metadata": {
        "id": "OAbiQdz6TFqb"
      },
      "execution_count": null,
      "outputs": []
    },
    {
      "cell_type": "code",
      "source": [
        "# Replaces strings\n",
        "print(kabinrapor1.replace(\"stü\",\"süt\"))"
      ],
      "metadata": {
        "id": "GuKiyRmlEDdd"
      },
      "execution_count": null,
      "outputs": []
    },
    {
      "cell_type": "code",
      "source": [
        "from wordcloud import WordCloud, STOPWORDS, ImageColorGenerator\n",
        "import matplotlib.pyplot as plt\n",
        "% matplotlib inline"
      ],
      "metadata": {
        "id": "1ZXEV3AF0-sG"
      },
      "execution_count": null,
      "outputs": []
    },
    {
      "cell_type": "code",
      "source": [
        "wordcloud = WordCloud(max_font_size=50, max_words=100, background_color=\"white\").generate(kabinrapor1)\n",
        "plt.figure()\n",
        "plt.imshow(wordcloud, interpolation=\"bilinear\")\n",
        "plt.axis(\"off\")\n",
        "plt.show()"
      ],
      "metadata": {
        "id": "_JVWWb1J2z9U"
      },
      "execution_count": null,
      "outputs": []
    },
    {
      "cell_type": "code",
      "source": [
        "import pandas as pd\n",
        "pd.read_excel('/content/kabin_rapor_sample.xlsx')"
      ],
      "metadata": {
        "id": "tYWhJ7Fz3fcL"
      },
      "execution_count": null,
      "outputs": []
    },
    {
      "cell_type": "code",
      "source": [
        "pos_words =[]\n",
        "neg_words = []\n",
        "\n",
        "for review in pos_df.ReviewText:\n",
        "    pos_words.append(review)\n",
        "pos_words = ' '.join(pos_words)\n",
        "\n",
        "\n",
        "for review in neg_df.ReviewText:\n",
        "    neg_words.append(review)\n",
        "neg_words = ' '.join(neg_words)"
      ],
      "metadata": {
        "id": "eUp8iCGw3ffz"
      },
      "execution_count": null,
      "outputs": []
    },
    {
      "cell_type": "code",
      "source": [
        "wordcloud = WordCloud().generate(pos_words)\n",
        "\n",
        "wordcloud = WordCloud(background_color=\"white\",max_words=len(pos_words),\\\n",
        "                      max_font_size=40, relative_scaling=.5, colormap='summer').generate(pos_words)\n",
        "plt.figure(figsize=(13,13))\n",
        "plt.imshow(wordcloud)\n",
        "plt.axis(\"off\")\n",
        "plt.show()"
      ],
      "metadata": {
        "id": "ruhD6moQ5OjY"
      },
      "execution_count": null,
      "outputs": []
    },
    {
      "cell_type": "code",
      "source": [
        "z = 'Kadın'\n",
        "\n",
        "if z =='Kadın':\n",
        "    print(1)\n",
        "elif z !='Kadın':\n",
        "    print(0)"
      ],
      "metadata": {
        "id": "OJeAD70pEPnQ"
      },
      "execution_count": null,
      "outputs": []
    },
    {
      "cell_type": "code",
      "source": [
        "L = list(range(10))\n",
        "L"
      ],
      "metadata": {
        "id": "WT6Pvx_CCoHk"
      },
      "execution_count": null,
      "outputs": []
    },
    {
      "cell_type": "code",
      "source": [
        "type(L[0])"
      ],
      "metadata": {
        "id": "u35j6vJAEO4y"
      },
      "execution_count": null,
      "outputs": []
    },
    {
      "cell_type": "code",
      "source": [
        "# Create a length-10 integer array filled with zeros\n",
        "np.zeros(10, dtype=int)"
      ],
      "metadata": {
        "id": "y7jOXzOnEjKn"
      },
      "execution_count": null,
      "outputs": []
    },
    {
      "cell_type": "code",
      "source": [
        "!pip install numpy"
      ],
      "metadata": {
        "id": "UIT28BypU3Wc"
      },
      "execution_count": null,
      "outputs": []
    },
    {
      "cell_type": "code",
      "source": [
        "import numpy as np\n",
        "import pandas as pd"
      ],
      "metadata": {
        "id": "McISANooUl_Q"
      },
      "execution_count": null,
      "outputs": []
    },
    {
      "cell_type": "code",
      "source": [
        "import matplotlib.pyplot as plt\n",
        "import seaborn as sns"
      ],
      "metadata": {
        "id": "LNxUb3_j5S6Z"
      },
      "execution_count": null,
      "outputs": []
    },
    {
      "cell_type": "code",
      "source": [],
      "metadata": {
        "id": "kOSfdIeW5S9F"
      },
      "execution_count": null,
      "outputs": []
    }
  ]
}